{
 "cells": [
  {
   "cell_type": "code",
   "execution_count": null,
   "metadata": {
    "_cell_guid": "b1076dfc-b9ad-4769-8c92-a6c4dae69d19",
    "_uuid": "8f2839f25d086af736a60e9eeb907d3b93b6e0e5",
    "execution": {
     "iopub.execute_input": "2024-11-24T22:29:19.569288Z",
     "iopub.status.busy": "2024-11-24T22:29:19.568912Z",
     "iopub.status.idle": "2024-11-24T22:29:19.990925Z",
     "shell.execute_reply": "2024-11-24T22:29:19.989842Z",
     "shell.execute_reply.started": "2024-11-24T22:29:19.569252Z"
    },
    "trusted": true
   },
   "outputs": [],
   "source": [
    "import numpy as np \n",
    "import pandas as pd"
   ]
  },
  {
   "cell_type": "code",
   "execution_count": null,
   "metadata": {
    "execution": {
     "iopub.execute_input": "2024-11-24T22:29:19.993262Z",
     "iopub.status.busy": "2024-11-24T22:29:19.992856Z",
     "iopub.status.idle": "2024-11-24T22:29:21.183409Z",
     "shell.execute_reply": "2024-11-24T22:29:21.182280Z",
     "shell.execute_reply.started": "2024-11-24T22:29:19.993230Z"
    },
    "trusted": true
   },
   "outputs": [],
   "source": [
    "df=pd.read_excel(\"input/1-s2.0-S0038092X23004784-mmc1.xlsx\")"
   ]
  },
  {
   "cell_type": "code",
   "execution_count": null,
   "metadata": {
    "execution": {
     "iopub.execute_input": "2024-11-24T22:29:21.185303Z",
     "iopub.status.busy": "2024-11-24T22:29:21.184901Z",
     "iopub.status.idle": "2024-11-24T22:29:21.223810Z",
     "shell.execute_reply": "2024-11-24T22:29:21.222707Z",
     "shell.execute_reply.started": "2024-11-24T22:29:21.185272Z"
    },
    "trusted": true
   },
   "outputs": [],
   "source": [
    "df.head()"
   ]
  },
  {
   "cell_type": "code",
   "execution_count": null,
   "metadata": {
    "execution": {
     "iopub.execute_input": "2024-11-24T22:29:21.226148Z",
     "iopub.status.busy": "2024-11-24T22:29:21.225875Z",
     "iopub.status.idle": "2024-11-24T22:29:21.253389Z",
     "shell.execute_reply": "2024-11-24T22:29:21.252311Z",
     "shell.execute_reply.started": "2024-11-24T22:29:21.226121Z"
    },
    "trusted": true
   },
   "outputs": [],
   "source": [
    "df = df.apply(pd.to_numeric, errors='coerce')\n",
    "\n",
    "threshold = len(df) * 0.5\n",
    "\n",
    "df = df.dropna(thresh=threshold, axis=1)\n",
    "\n",
    "df = df[df['PCE(%)'].notna() & (df['PCE(%)'] != \"\")]\n",
    "\n",
    "for column in df.columns:\n",
    "    mode_value = df[column].mode()[0]\n",
    "    df[column].fillna(mode_value, inplace=True)"
   ]
  },
  {
   "cell_type": "code",
   "execution_count": null,
   "metadata": {
    "execution": {
     "iopub.execute_input": "2024-11-24T22:29:21.324567Z",
     "iopub.status.busy": "2024-11-24T22:29:21.324073Z",
     "iopub.status.idle": "2024-11-24T22:29:21.339756Z",
     "shell.execute_reply": "2024-11-24T22:29:21.338771Z",
     "shell.execute_reply.started": "2024-11-24T22:29:21.324498Z"
    },
    "trusted": true
   },
   "outputs": [],
   "source": []
  },
  {
   "cell_type": "code",
   "execution_count": null,
   "metadata": {
    "execution": {
     "iopub.execute_input": "2024-11-24T22:29:21.345152Z",
     "iopub.status.busy": "2024-11-24T22:29:21.344377Z",
     "iopub.status.idle": "2024-11-24T22:29:21.353679Z",
     "shell.execute_reply": "2024-11-24T22:29:21.352514Z",
     "shell.execute_reply.started": "2024-11-24T22:29:21.345115Z"
    },
    "trusted": true
   },
   "outputs": [],
   "source": []
  },
  {
   "cell_type": "code",
   "execution_count": null,
   "metadata": {
    "execution": {
     "iopub.execute_input": "2024-11-24T22:29:21.387336Z",
     "iopub.status.busy": "2024-11-24T22:29:21.386984Z",
     "iopub.status.idle": "2024-11-24T22:29:21.422662Z",
     "shell.execute_reply": "2024-11-24T22:29:21.421300Z",
     "shell.execute_reply.started": "2024-11-24T22:29:21.387303Z"
    },
    "trusted": true
   },
   "outputs": [],
   "source": []
  },
  {
   "cell_type": "code",
   "execution_count": null,
   "metadata": {
    "execution": {
     "iopub.execute_input": "2024-11-24T22:29:21.424683Z",
     "iopub.status.busy": "2024-11-24T22:29:21.424300Z",
     "iopub.status.idle": "2024-11-24T22:29:21.532028Z",
     "shell.execute_reply": "2024-11-24T22:29:21.530959Z",
     "shell.execute_reply.started": "2024-11-24T22:29:21.424641Z"
    },
    "trusted": true
   },
   "outputs": [],
   "source": [
    "\n",
    "# Print the complete describe() output\n",
    "print(df.describe())\n"
   ]
  },
  {
   "cell_type": "code",
   "execution_count": null,
   "metadata": {
    "execution": {
     "iopub.execute_input": "2024-11-24T22:29:33.207636Z",
     "iopub.status.busy": "2024-11-24T22:29:33.207114Z",
     "iopub.status.idle": "2024-11-24T22:29:34.073097Z",
     "shell.execute_reply": "2024-11-24T22:29:34.071873Z",
     "shell.execute_reply.started": "2024-11-24T22:29:33.207583Z"
    },
    "trusted": true
   },
   "outputs": [],
   "source": [
    "import seaborn as sns\n",
    "import matplotlib.pyplot as plt\n",
    "import pandas as pd\n",
    "import numpy as np"
   ]
  },
  {
   "cell_type": "code",
   "execution_count": null,
   "metadata": {
    "execution": {
     "iopub.execute_input": "2024-11-24T22:29:34.076453Z",
     "iopub.status.busy": "2024-11-24T22:29:34.075243Z",
     "iopub.status.idle": "2024-11-24T22:29:39.585484Z",
     "shell.execute_reply": "2024-11-24T22:29:39.584062Z",
     "shell.execute_reply.started": "2024-11-24T22:29:34.076398Z"
    },
    "trusted": true
   },
   "outputs": [],
   "source": [
    "correlation_matrix = df.corr()\n",
    "\n",
    "# Plot the heatmap\n",
    "plt.figure(figsize=(36, 36))\n",
    "sns.heatmap(correlation_matrix, annot=True, cmap='coolwarm', vmin=-1, vmax=1)\n",
    "plt.title('Correlation Heatmap')\n",
    "plt.show()"
   ]
  },
  {
   "cell_type": "code",
   "execution_count": null,
   "metadata": {
    "execution": {
     "iopub.execute_input": "2024-11-24T22:29:39.587228Z",
     "iopub.status.busy": "2024-11-24T22:29:39.586908Z",
     "iopub.status.idle": "2024-11-24T22:29:39.594721Z",
     "shell.execute_reply": "2024-11-24T22:29:39.593699Z",
     "shell.execute_reply.started": "2024-11-24T22:29:39.587195Z"
    },
    "trusted": true
   },
   "outputs": [],
   "source": [
    "df.columns"
   ]
  },
  {
   "cell_type": "code",
   "execution_count": null,
   "metadata": {
    "execution": {
     "iopub.execute_input": "2024-11-24T22:29:39.596471Z",
     "iopub.status.busy": "2024-11-24T22:29:39.596153Z",
     "iopub.status.idle": "2024-11-24T22:29:39.610207Z",
     "shell.execute_reply": "2024-11-24T22:29:39.609083Z",
     "shell.execute_reply.started": "2024-11-24T22:29:39.596441Z"
    },
    "trusted": true
   },
   "outputs": [],
   "source": [
    "lst=[ 'Thickness():a', 'Thickness():c', \n",
    "       'Band gap,Eg():a',\n",
    "       'Band gap,Eg():c', \n",
    "       'Band gap,Eg():e', 'Electron affinity,χ():a',\n",
    "        'Electron affinity,χ():e', \n",
    "        'Dielectric permittivity,ℇr:a',\n",
    "       'Dielectric permittivity,ℇr:c', 'Dielectric permittivity,ℇr:e',\n",
    "       'CB effective density of states,Nc(cm-3):c',\n",
    "       'VB effective density of states,Nc(cm-3):a',\n",
    "       'VB effective density of states,Nc(cm-3):c',\n",
    "       'VB effective density of states,Nc(cm-3):e',\n",
    "       'Hole mobility ,μp(cm2/Vs):a', 'Hole mobility ,μp(cm2/Vs):c',\n",
    "       'Hole mobility ,μp(cm2/Vs):e', \n",
    "       'Shallow donor density,ND(cm-3):c', \n",
    "       'Shallow donor density,ND(cm-3):e',\n",
    "       'Shallow acceptor density,NA(cm-3):a',\n",
    "       'Shallow acceptor density,NA(cm-3):c', 'Defect density,Nt(cm-3):a']\n",
    "\n",
    "len(lst)"
   ]
  },
  {
   "cell_type": "code",
   "execution_count": null,
   "metadata": {
    "execution": {
     "iopub.execute_input": "2024-11-24T22:29:39.611680Z",
     "iopub.status.busy": "2024-11-24T22:29:39.611315Z",
     "iopub.status.idle": "2024-11-24T22:29:39.627688Z",
     "shell.execute_reply": "2024-11-24T22:29:39.626033Z",
     "shell.execute_reply.started": "2024-11-24T22:29:39.611648Z"
    },
    "trusted": true
   },
   "outputs": [],
   "source": [
    "dataset=df[lst]"
   ]
  },
  {
   "cell_type": "code",
   "execution_count": null,
   "metadata": {
    "execution": {
     "iopub.execute_input": "2024-11-24T22:29:39.629816Z",
     "iopub.status.busy": "2024-11-24T22:29:39.629304Z",
     "iopub.status.idle": "2024-11-24T22:29:39.710665Z",
     "shell.execute_reply": "2024-11-24T22:29:39.709619Z",
     "shell.execute_reply.started": "2024-11-24T22:29:39.629764Z"
    },
    "trusted": true
   },
   "outputs": [],
   "source": [
    "dataset.describe()"
   ]
  },
  {
   "cell_type": "code",
   "execution_count": null,
   "metadata": {},
   "outputs": [],
   "source": [
    "param_mapping = {\n",
    "    \"Thickness():a\": \"Th1\",\n",
    "    \"Thickness():c\": \"Th2\",\n",
    "    \"Thickness():e\": \"Th3\",\n",
    "    \"Band gap,Eg():a\": \"Eg1\",\n",
    "    \"Band gap,Eg():c\": \"Eg2\",\n",
    "    \"Band gap,Eg():e\": \"Eg3\",\n",
    "    \"Electron affinity,χ():a\": \"X1\",\n",
    "    \"Electron affinity,χ():e\": \"X2\",\n",
    "    \"Dielectric permittivity,ℇr:a\": \"DP1\",\n",
    "    \"Dielectric permittivity,ℇr:c\": \"DP2\",\n",
    "    \"Dielectric permittivity,ℇr:e\": \"DP3\",\n",
    "    \"CB effective density of states,Nc(cm-3):c\": \"CB2\",\n",
    "    \"VB effective density of states,Nc(cm-3):a\": \"VB1\",\n",
    "    \"VB effective density of states,Nc(cm-3):c\": \"VB2\",\n",
    "    \"VB effective density of states,Nc(cm-3):e\": \"VB3\",\n",
    "    \"Hole mobility ,μp(cm2/Vs):a\": \"HM1\",\n",
    "    \"Hole mobility ,μp(cm2/Vs):c\": \"HM2\",\n",
    "    \"Hole mobility ,μp(cm2/Vs):e\": \"HM3\",\n",
    "    \"Shallow donor density,ND(cm-3):c\": \"Nd2\",\n",
    "    \"Shallow donor density,ND(cm-3):e\": \"Nd3\",\n",
    "    \"Shallow acceptor density,NA(cm-3):c\": \"Na2\",\n",
    "    \"Shallow acceptor density,NA(cm-3):a\": \"Na1\",\n",
    "    \"Defect density,Nt(cm-3):a\": \"Nt1\"\n",
    "}\n",
    "\n",
    "heat_map_df=dataset.rename(columns=param_mapping)"
   ]
  },
  {
   "cell_type": "code",
   "execution_count": null,
   "metadata": {
    "execution": {
     "iopub.execute_input": "2024-11-24T22:29:39.712196Z",
     "iopub.status.busy": "2024-11-24T22:29:39.711902Z",
     "iopub.status.idle": "2024-11-24T22:29:41.188285Z",
     "shell.execute_reply": "2024-11-24T22:29:41.187292Z",
     "shell.execute_reply.started": "2024-11-24T22:29:39.712167Z"
    },
    "trusted": true
   },
   "outputs": [],
   "source": [
    "correlation_matrix = heat_map_df.corr()\n",
    "\n",
    "# Plot the heatmap\n",
    "plt.figure(figsize=(18, 18))\n",
    "sns.heatmap(correlation_matrix, annot=True, cmap='coolwarm', vmin=-1, vmax=1)\n",
    "plt.title('Correlation Heatmap')\n",
    "plt.show()"
   ]
  },
  {
   "cell_type": "code",
   "execution_count": null,
   "metadata": {
    "execution": {
     "iopub.execute_input": "2024-11-24T22:29:51.234994Z",
     "iopub.status.busy": "2024-11-24T22:29:51.234610Z",
     "iopub.status.idle": "2024-11-24T22:29:51.710755Z",
     "shell.execute_reply": "2024-11-24T22:29:51.709793Z",
     "shell.execute_reply.started": "2024-11-24T22:29:51.234957Z"
    },
    "trusted": true
   },
   "outputs": [],
   "source": [
    "from sklearn.ensemble import RandomForestRegressor,ExtraTreesRegressor\n",
    "from sklearn.neighbors import KNeighborsRegressor\n",
    "from sklearn.model_selection import train_test_split\n",
    "from sklearn.metrics import accuracy_score, classification_report, mean_absolute_error, r2_score, mean_squared_error, roc_auc_score\n",
    "from bayes_opt import BayesianOptimization\n",
    "from xgboost import XGBRegressor\n",
    "from sklearn.preprocessing import StandardScaler\n",
    "import lightgbm as lgb\n",
    "from sklearn.tree import DecisionTreeRegressor\n"
   ]
  },
  {
   "cell_type": "code",
   "execution_count": null,
   "metadata": {
    "execution": {
     "iopub.execute_input": "2024-11-24T22:29:51.712380Z",
     "iopub.status.busy": "2024-11-24T22:29:51.712052Z",
     "iopub.status.idle": "2024-11-24T22:29:51.717496Z",
     "shell.execute_reply": "2024-11-24T22:29:51.716353Z",
     "shell.execute_reply.started": "2024-11-24T22:29:51.712349Z"
    },
    "trusted": true
   },
   "outputs": [],
   "source": [
    "X = dataset\n",
    "y = df['PCE(%)']    "
   ]
  },
  {
   "cell_type": "code",
   "execution_count": null,
   "metadata": {
    "execution": {
     "iopub.execute_input": "2024-11-24T22:29:51.719689Z",
     "iopub.status.busy": "2024-11-24T22:29:51.719204Z",
     "iopub.status.idle": "2024-11-24T22:29:51.734142Z",
     "shell.execute_reply": "2024-11-24T22:29:51.732933Z",
     "shell.execute_reply.started": "2024-11-24T22:29:51.719642Z"
    },
    "trusted": true
   },
   "outputs": [],
   "source": [
    "X_train, X_test, y_train, y_test = train_test_split(X, y, test_size=0.2, random_state=42)"
   ]
  },
  {
   "cell_type": "code",
   "execution_count": null,
   "metadata": {},
   "outputs": [],
   "source": [
    "scaler = StandardScaler()\n",
    "X_train_scale = scaler.fit_transform(X_train)\n",
    "X_test_scale = scaler.transform(X_test)\n"
   ]
  },
  {
   "cell_type": "code",
   "execution_count": null,
   "metadata": {
    "execution": {
     "iopub.execute_input": "2024-11-24T22:29:51.736481Z",
     "iopub.status.busy": "2024-11-24T22:29:51.736046Z",
     "iopub.status.idle": "2024-11-24T22:29:51.755419Z",
     "shell.execute_reply": "2024-11-24T22:29:51.754254Z",
     "shell.execute_reply.started": "2024-11-24T22:29:51.736437Z"
    },
    "trusted": true
   },
   "outputs": [],
   "source": [
    "y_train.describe()"
   ]
  },
  {
   "cell_type": "code",
   "execution_count": null,
   "metadata": {
    "execution": {
     "iopub.execute_input": "2024-11-24T22:29:51.760884Z",
     "iopub.status.busy": "2024-11-24T22:29:51.760453Z",
     "iopub.status.idle": "2024-11-24T22:29:52.270394Z",
     "shell.execute_reply": "2024-11-24T22:29:52.269280Z",
     "shell.execute_reply.started": "2024-11-24T22:29:51.760850Z"
    },
    "trusted": true
   },
   "outputs": [],
   "source": [
    "model_rf = RandomForestRegressor(n_estimators=100, random_state=42)\n",
    "\n",
    "model_rf.fit(X_train_scale, y_train)\n"
   ]
  },
  {
   "cell_type": "code",
   "execution_count": null,
   "metadata": {
    "execution": {
     "iopub.execute_input": "2024-11-24T22:29:52.272294Z",
     "iopub.status.busy": "2024-11-24T22:29:52.271867Z",
     "iopub.status.idle": "2024-11-24T22:29:52.290016Z",
     "shell.execute_reply": "2024-11-24T22:29:52.288702Z",
     "shell.execute_reply.started": "2024-11-24T22:29:52.272249Z"
    },
    "trusted": true
   },
   "outputs": [],
   "source": [
    "regressor = DecisionTreeRegressor(criterion=\"squared_error\", max_depth=5, random_state=42)\n",
    "regressor.fit(X_train_scale, y_train)"
   ]
  },
  {
   "cell_type": "code",
   "execution_count": null,
   "metadata": {
    "execution": {
     "iopub.execute_input": "2024-11-24T22:29:52.292848Z",
     "iopub.status.busy": "2024-11-24T22:29:52.292083Z",
     "iopub.status.idle": "2024-11-24T22:29:52.299516Z",
     "shell.execute_reply": "2024-11-24T22:29:52.298493Z",
     "shell.execute_reply.started": "2024-11-24T22:29:52.292796Z"
    },
    "trusted": true
   },
   "outputs": [],
   "source": [
    "threshold = np.median(y)\n",
    "y_binary = (y > threshold).astype(int) \n",
    "y_train_binary = (y_train > threshold).astype(int)\n",
    "y_test_binary = (y_test > threshold).astype(int)\n",
    "\n",
    "# Define Regression Models\n",
    "models_regression = {\n",
    "    \"Decision Tree\": DecisionTreeRegressor(max_depth=5, random_state=42),\n",
    "    \"KNN\": KNeighborsRegressor(n_neighbors=5),\n",
    "    \"LightGBM\": lgb.LGBMRegressor(n_estimators=100, random_state=42),\n",
    "    \"Random Forest\": RandomForestRegressor(n_estimators=100, random_state=42),\n",
    "    \"Extra Trees\": ExtraTreesRegressor(n_estimators=100, random_state=42),\n",
    "    \"XGBoost\": XGBRegressor(n_estimators=100, random_state=42)\n",
    "}\n",
    "# Store evaluation metrics\n",
    "mae_values = []\n",
    "r2_values = []\n",
    "auc_values = []\n",
    "model_names = []\n",
    "\n",
    "# Train and Evaluate Regression Models\n",
    "for name, model in models_regression.items():\n",
    "    model.fit(X_train_scale, y_train)\n",
    "    y_pred = model.predict(X_test_scale)\n",
    "    \n",
    "    # Calculate MSE and R² Score\n",
    "    mae = mean_absolute_error(y_test, y_pred)\n",
    "    r2 = r2_score(y_test, y_pred)\n",
    "    \n",
    "    # Calculate AUC-ROC\n",
    "    auc = roc_auc_score(y_test_binary, y_pred)\n",
    "\n",
    "    print(name,mae,r2,auc)\n",
    "    \n",
    "    # Append metrics and names for visualization\n",
    "    mae_values.append(mae)\n",
    "    r2_values.append(r2)\n",
    "    auc_values.append(float(auc))\n",
    "    model_names.append(name)\n",
    "\n",
    "# Visualization: Grouped Bar Chart\n",
    "x = np.arange(len(model_names))  # Model indices\n",
    "width = 0.25  # Width of bars\n",
    "\n",
    "fig, ax = plt.subplots(figsize=(12, 6))\n",
    "\n",
    "# Bar plots for each metric\n",
    "# ax.bar(x - width, mse_values, width, label='MSE', color='skyblue')\n",
    "ax.bar(x, r2_values, width, label='R² Score', color='lightgreen')\n",
    "ax.bar(x + width, auc_values, width, label='AUC-ROC', color='salmon')\n",
    "\n",
    "# Add labels, title, and legend\n",
    "ax.set_xlabel(\"Models\", fontsize=12)\n",
    "ax.set_title(\"Comparison of Models on R², and AUC-ROC\", fontsize=14)\n",
    "ax.set_xticks(x)\n",
    "ax.set_xticklabels(model_names, rotation=45, fontsize=10)\n",
    "ax.set_ylabel(\"Metric Value\", fontsize=12)\n",
    "ax.legend()\n",
    "\n",
    "# Adjust layout and display\n",
    "plt.tight_layout()\n",
    "print(r2_values)\n",
    "print(auc_values)\n",
    "print(model_names)\n",
    "plt.show()\n",
    "\n",
    "for i in range(6):\n",
    "    print(model_names[i],mae_values[i],r2_values[i],auc_values[i])\n",
    "\n"
   ]
  },
  {
   "cell_type": "code",
   "execution_count": null,
   "metadata": {},
   "outputs": [],
   "source": [
    "lgbm = lgb.LGBMRegressor(\n",
    "    n_estimators=100,  \n",
    "    learning_rate=0.1, \n",
    "    max_depth=7,      \n",
    "    random_state=42   \n",
    ")\n",
    "\n",
    "lgbm.fit(X_train_scale, y_train)"
   ]
  },
  {
   "cell_type": "code",
   "execution_count": null,
   "metadata": {
    "execution": {
     "iopub.execute_input": "2024-11-24T22:29:52.301652Z",
     "iopub.status.busy": "2024-11-24T22:29:52.301182Z",
     "iopub.status.idle": "2024-11-24T22:29:52.635190Z",
     "shell.execute_reply": "2024-11-24T22:29:52.634112Z",
     "shell.execute_reply.started": "2024-11-24T22:29:52.301604Z"
    },
    "trusted": true
   },
   "outputs": [],
   "source": [
    "model_et = ExtraTreesRegressor(n_estimators=100, random_state=42)\n",
    "model_et.fit(X_train_scale, y_train)"
   ]
  },
  {
   "cell_type": "code",
   "execution_count": null,
   "metadata": {},
   "outputs": [],
   "source": [
    "y_predicted=model_et.predict(X_test)\n",
    "\n",
    "# Create the scatter plot\n",
    "plt.figure(figsize=(8,6))\n",
    "plt.scatter(y_test, y_predicted, color='blue', alpha=0.5)\n",
    "\n",
    "# Add labels and title\n",
    "plt.xlabel('Actual Values', fontsize=12)\n",
    "plt.ylabel('Predicted Values', fontsize=12)\n",
    "\n",
    "# Show plot\n",
    "plt.grid(True)\n",
    "plt.show()"
   ]
  },
  {
   "cell_type": "code",
   "execution_count": null,
   "metadata": {},
   "outputs": [],
   "source": [
    "import matplotlib.pyplot as plt\n",
    "import seaborn as sns"
   ]
  },
  {
   "cell_type": "code",
   "execution_count": null,
   "metadata": {},
   "outputs": [],
   "source": [
    "importances = model_et.feature_importances_\n",
    "feature_names = X.columns"
   ]
  },
  {
   "cell_type": "code",
   "execution_count": null,
   "metadata": {},
   "outputs": [],
   "source": [
    "\n",
    "importance_df = pd.DataFrame({'Feature': feature_names, 'Importance': importances})\n",
    "importance_df['Feature']=importance_df['Feature'].replace(param_mapping)\n",
    "importance_df = importance_df.sort_values(by='Importance', ascending=False)\n",
    "\n",
    "plt.figure(figsize=(10, 6))\n",
    "sns.barplot(x='Importance', y='Feature', data=importance_df, palette='viridis')\n",
    "\n",
    "plt.xlabel('Importance')\n",
    "plt.ylabel('Feature')\n",
    "plt.show()"
   ]
  },
  {
   "cell_type": "code",
   "execution_count": null,
   "metadata": {},
   "outputs": [],
   "source": [
    "importance_df"
   ]
  },
  {
   "cell_type": "code",
   "execution_count": null,
   "metadata": {},
   "outputs": [],
   "source": [
    "xgboost_regressor = XGBRegressor(\n",
    "    objective='reg:squarederror',\n",
    "    max_depth=6,                 \n",
    "    learning_rate=0.1,           \n",
    "    n_estimators=100,            \n",
    "    random_state=42              \n",
    ")\n",
    "\n",
    "xgboost_regressor.fit(X_train_scale, y_train)\n"
   ]
  },
  {
   "cell_type": "code",
   "execution_count": null,
   "metadata": {},
   "outputs": [],
   "source": [
    "knn = KNeighborsRegressor(n_neighbors=3) \n",
    "knn.fit(X_train_scale, y_train)"
   ]
  },
  {
   "cell_type": "code",
   "execution_count": null,
   "metadata": {},
   "outputs": [],
   "source": [
    "\n",
    "X_train"
   ]
  },
  {
   "cell_type": "code",
   "execution_count": null,
   "metadata": {
    "execution": {
     "iopub.execute_input": "2024-11-24T22:29:52.636941Z",
     "iopub.status.busy": "2024-11-24T22:29:52.636587Z",
     "iopub.status.idle": "2024-11-24T22:29:52.652119Z",
     "shell.execute_reply": "2024-11-24T22:29:52.650905Z",
     "shell.execute_reply.started": "2024-11-24T22:29:52.636909Z"
    },
    "trusted": true
   },
   "outputs": [],
   "source": [
    "column_names = [f\"{i}\" for i in lst]  # Example column names\n",
    "X_train_df = pd.DataFrame(X_train, columns=column_names)\n",
    "\n",
    "# Create dictionary with min and max values for each column\n",
    "dct = {}\n",
    "for i in X_train_df.columns:\n",
    "    dct[str(i)] = (X_train_df[i].min(), X_train_df[i].max())\n",
    "\n",
    "print(dct)"
   ]
  },
  {
   "cell_type": "code",
   "execution_count": null,
   "metadata": {},
   "outputs": [],
   "source": [
    "target_pce = float(input(\"Enter the target PCE percentage: \"))"
   ]
  },
  {
   "cell_type": "code",
   "execution_count": null,
   "metadata": {
    "execution": {
     "iopub.execute_input": "2024-11-24T22:29:52.653950Z",
     "iopub.status.busy": "2024-11-24T22:29:52.653503Z",
     "iopub.status.idle": "2024-11-24T22:30:04.207819Z",
     "shell.execute_reply": "2024-11-24T22:30:04.206610Z",
     "shell.execute_reply.started": "2024-11-24T22:29:52.653917Z"
    },
    "trusted": true
   },
   "outputs": [],
   "source": [
    "def objective(**kwargs):\n",
    "    features = np.array([kwargs[key] for key in pbounds.keys()]).reshape(1, -1)\n",
    "    \n",
    "    pred_pce = model_et.predict(features)[0]\n",
    "    \n",
    "    return -abs(pred_pce - target_pce)\n",
    "\n",
    "\n",
    "pbounds = dct  \n",
    "\n",
    "optimizer = BayesianOptimization(\n",
    "    f=objective,\n",
    "    pbounds=pbounds,\n",
    "    random_state=42,\n",
    ")\n",
    "\n",
    "optimizer.maximize(init_points=10, n_iter=100)\n",
    "\n",
    "best_features = optimizer.max['params']\n",
    "\n",
    "print(\"Feature values for the target PCE percentage:\", best_features)\n"
   ]
  },
  {
   "cell_type": "code",
   "execution_count": null,
   "metadata": {
    "execution": {
     "iopub.execute_input": "2024-11-24T22:30:04.578418Z",
     "iopub.status.busy": "2024-11-24T22:30:04.578059Z",
     "iopub.status.idle": "2024-11-24T22:30:05.100164Z",
     "shell.execute_reply": "2024-11-24T22:30:05.098866Z",
     "shell.execute_reply.started": "2024-11-24T22:30:04.578375Z"
    },
    "trusted": true
   },
   "outputs": [],
   "source": [
    "from tabulate import tabulate\n",
    "table = [(param_mapping[key], val) for key, val in best_features.items()]\n",
    "\n",
    "headers = ['Feature', 'Value']\n",
    "\n",
    "print(tabulate(table, headers=headers, tablefmt='pretty'))\n"
   ]
  },
  {
   "cell_type": "code",
   "execution_count": null,
   "metadata": {
    "execution": {
     "iopub.execute_input": "2024-11-24T22:30:05.126210Z",
     "iopub.status.busy": "2024-11-24T22:30:05.125911Z",
     "iopub.status.idle": "2024-11-24T22:30:18.055945Z",
     "shell.execute_reply": "2024-11-24T22:30:18.049986Z",
     "shell.execute_reply.started": "2024-11-24T22:30:05.126180Z"
    },
    "trusted": true
   },
   "outputs": [],
   "source": [
    "def objective(**kwargs):\n",
    "    features = np.array([kwargs[key] for key in pbounds.keys()]).reshape(1, -1)\n",
    "    \n",
    "    pred_pce = 0.47*model_rf.predict(features)[0] + 0.53*xgboost_regressor.predict(features)[0]\n",
    "    \n",
    "    return -abs(pred_pce - target_pce)\n",
    "\n",
    "\n",
    "pbounds = dct  \n",
    "\n",
    "optimizer = BayesianOptimization(\n",
    "    f=objective,\n",
    "    pbounds=pbounds,\n",
    "    random_state=42,\n",
    ")\n",
    "\n",
    "optimizer.maximize(init_points=10, n_iter=100)\n",
    "\n",
    "best_features = optimizer.max['params']\n",
    "\n",
    "print(\"Feature values for the target PCE percentage:\", best_features)\n"
   ]
  },
  {
   "cell_type": "code",
   "execution_count": null,
   "metadata": {},
   "outputs": [],
   "source": [
    "\n",
    "table = [(key, val) for key, val in best_features.items()]\n",
    "\n",
    "# Define column names\n",
    "headers = ['Feature', 'Value']\n",
    "\n",
    "# Print the table\n",
    "print(tabulate(table, headers=headers, tablefmt='pretty'))\n",
    "\n",
    "    "
   ]
  }
 ],
 "metadata": {
  "kaggle": {
   "accelerator": "none",
   "dataSources": [
    {
     "datasetId": 6062735,
     "sourceId": 9875342,
     "sourceType": "datasetVersion"
    },
    {
     "datasetId": 6071420,
     "sourceId": 9886690,
     "sourceType": "datasetVersion"
    }
   ],
   "dockerImageVersionId": 30786,
   "isGpuEnabled": false,
   "isInternetEnabled": true,
   "language": "python",
   "sourceType": "notebook"
  },
  "kernelspec": {
   "display_name": "Python 3",
   "language": "python",
   "name": "python3"
  },
  "language_info": {
   "codemirror_mode": {
    "name": "ipython",
    "version": 3
   },
   "file_extension": ".py",
   "mimetype": "text/x-python",
   "name": "python",
   "nbconvert_exporter": "python",
   "pygments_lexer": "ipython3",
   "version": "3.13.0"
  }
 },
 "nbformat": 4,
 "nbformat_minor": 4
}
